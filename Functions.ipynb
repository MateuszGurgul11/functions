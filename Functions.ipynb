{
 "cells": [
  {
   "cell_type": "markdown",
   "id": "856ed045-6384-452c-8d11-ccccd97824a5",
   "metadata": {},
   "source": [
    "# Functions\n",
    "How to create them"
   ]
  },
  {
   "cell_type": "markdown",
   "id": "728d2513-7820-4dd2-a1bb-664a51035ea5",
   "metadata": {},
   "source": [
    "1. First we use word 'def'\n",
    "2. After that we can name our function: 'def add(a, b):'\n",
    "3. Under we can enter code that will execute at the end, for example: 'return a + b'\n",
    "4. Last step we need to do is print that function, we can do this by using print(), example: 'print(add())'\n",
    "5. If we add those steps together we will get this:"
   ]
  },
  {
   "cell_type": "code",
   "execution_count": 3,
   "id": "214f7282-6726-44ff-a615-c169fe012f7e",
   "metadata": {},
   "outputs": [
    {
     "name": "stdout",
     "output_type": "stream",
     "text": [
      "3\n"
     ]
    }
   ],
   "source": [
    "def add(a, b):\n",
    "    return a + b\n",
    "\n",
    "print(add(1, 2))"
   ]
  }
 ],
 "metadata": {
  "kernelspec": {
   "display_name": "Python 3 (ipykernel)",
   "language": "python",
   "name": "python3"
  },
  "language_info": {
   "codemirror_mode": {
    "name": "ipython",
    "version": 3
   },
   "file_extension": ".py",
   "mimetype": "text/x-python",
   "name": "python",
   "nbconvert_exporter": "python",
   "pygments_lexer": "ipython3",
   "version": "3.11.7"
  }
 },
 "nbformat": 4,
 "nbformat_minor": 5
}
