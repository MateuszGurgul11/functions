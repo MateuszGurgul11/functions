{
 "cells": [
  {
   "cell_type": "markdown",
   "id": "856ed045-6384-452c-8d11-ccccd97824a5",
   "metadata": {},
   "source": [
    "# Functions\n",
    "How to create them"
   ]
  },
  {
   "cell_type": "markdown",
   "id": "728d2513-7820-4dd2-a1bb-664a51035ea5",
   "metadata": {},
   "source": [
    "1. First, we use the keyword def to define a new function.\n",
    "2. After that, we can name our function, for example: 'def add(a, b):'\n",
    "3. Below this line, we can enter the code that will be executed when the function is called; for instance: 'return a + b'. \n",
    "4. The last step is to call this function and print its result. We can do this by using the print() function, like so: 'print(add(2, 3))'.\n",
    "5.  If we combine these steps, we will get the following code:"
   ]
  },
  {
   "cell_type": "code",
   "execution_count": 3,
   "id": "214f7282-6726-44ff-a615-c169fe012f7e",
   "metadata": {},
   "outputs": [
    {
     "name": "stdout",
     "output_type": "stream",
     "text": [
      "3\n"
     ]
    }
   ],
   "source": [
    "def add(a, b):\n",
    "    return a + b\n",
    "\n",
    "print(add(2, 3))"
   ]
  }
 ],
 "metadata": {
  "kernelspec": {
   "display_name": "Python 3 (ipykernel)",
   "language": "python",
   "name": "python3"
  },
  "language_info": {
   "codemirror_mode": {
    "name": "ipython",
    "version": 3
   },
   "file_extension": ".py",
   "mimetype": "text/x-python",
   "name": "python",
   "nbconvert_exporter": "python",
   "pygments_lexer": "ipython3",
   "version": "3.11.7"
  }
 },
 "nbformat": 4,
 "nbformat_minor": 5
}
